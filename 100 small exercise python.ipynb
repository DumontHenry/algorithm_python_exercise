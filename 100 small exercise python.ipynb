{
 "cells": [
  {
   "cell_type": "code",
   "execution_count": 1,
   "metadata": {},
   "outputs": [
    {
     "name": "stdout",
     "output_type": "stream",
     "text": [
      "The result is  600\n",
      "The result is 600\n",
      "The result is 70\n"
     ]
    }
   ],
   "source": [
    "# Exercise 1: Calculate the multiplication and sum of two numbers\n",
    "# Given two integer numbers, return their product only if the product is equal to or lower than 1000. Otherwise, return their sum.\n",
    "\n",
    "number1=int(input())\n",
    "number2=int(input())\n",
    "\n",
    "if number1 * number2  <=1000:\n",
    "    print(\"The result is\", number1 * number2)\n",
    "else :\n",
    "    print(\"The result is\", number1 + number2)\n",
    "\n",
    "# Solution \n",
    "\n",
    "def multiplication_or_sum(num1,num2):\n",
    "    product= num1 *num2\n",
    "    if product <= 1000:\n",
    "        return product\n",
    "    else:\n",
    "        return num1 + num2\n",
    "\n",
    "# first condition\n",
    "result = multiplication_or_sum(20, 30)\n",
    "print(\"The result is\", result)\n",
    "\n",
    "# Second condition\n",
    "result = multiplication_or_sum(40, 30)\n",
    "print(\"The result is\", result)"
   ]
  },
  {
   "cell_type": "code",
   "execution_count": 3,
   "metadata": {},
   "outputs": [
    {
     "name": "stdout",
     "output_type": "stream",
     "text": [
      "Current Number 0 Previous_Number 0 sum 0\n",
      "Current Number 1 Previous_Number 0 sum 1\n",
      "Current Number 2 Previous_Number 1 sum 3\n",
      "Current Number 3 Previous_Number 2 sum 5\n",
      "Current Number 4 Previous_Number 3 sum 7\n",
      "Current Number 5 Previous_Number 4 sum 9\n",
      "Current Number 6 Previous_Number 5 sum 11\n",
      "Current Number 7 Previous_Number 6 sum 13\n",
      "Current Number 8 Previous_Number 7 sum 15\n",
      "Current Number 9 Previous_Number 8 sum 17\n",
      "Printing current and previous number and their sum in a range(10)\n",
      "Current Number 1 Previous Number  0  Sum:  1\n",
      "Current Number 2 Previous Number  1  Sum:  3\n",
      "Current Number 3 Previous Number  2  Sum:  5\n",
      "Current Number 4 Previous Number  3  Sum:  7\n",
      "Current Number 5 Previous Number  4  Sum:  9\n",
      "Current Number 6 Previous Number  5  Sum:  11\n",
      "Current Number 7 Previous Number  6  Sum:  13\n",
      "Current Number 8 Previous Number  7  Sum:  15\n",
      "Current Number 9 Previous Number  8  Sum:  17\n",
      "Current Number 10 Previous Number  9  Sum:  19\n"
     ]
    }
   ],
   "source": [
    "# Exercise 2: Print the sum of the current number and the previous number\n",
    "# Write a program to iterate the first 10 numbers, and in each iteration, print the sum of the current and previous number\n",
    "print(\"Printing current and previous number and their sum in a range(10)\")\n",
    "for sum in range(10):\n",
    "    previous_number = sum-1\n",
    "    current_number= sum\n",
    "    if current_number == 0:\n",
    "        previous_number = sum\n",
    "    else:\n",
    "        previous_number = current_number - 1\n",
    "    print(\"Current Number\",sum, \"Previous_Number\", previous_number, \"sum\" ,current_number +previous_number)\n",
    "#===========================================================================================================\n",
    "# solution\n",
    "\n",
    "print(\"Printing current and previous number and their sum in a range(10)\")\n",
    "previous_num = 0\n",
    "\n",
    "# loop from 1 to 10\n",
    "for i in range(1, 11):\n",
    "    x_sum = previous_num + i # previous_num = 0 the first time and then modify previous number\n",
    "    print(\"Current Number\", i, \"Previous Number \", previous_num, \" Sum: \", x_sum)\n",
    "    # modify previous number\n",
    "    # set it to the current number\n",
    "    previous_num = i"
   ]
  },
  {
   "cell_type": "code",
   "execution_count": 8,
   "metadata": {},
   "outputs": [
    {
     "name": "stdout",
     "output_type": "stream",
     "text": [
      "p\n",
      "n\n",
      "t\n",
      "v\n",
      "index 0 p\n",
      "index 2 n\n",
      "index 4 t\n",
      "index 6 v\n",
      "Original String: pynative\n",
      "Printing only even index chars\n",
      "index[ 0 ] p\n",
      "index[ 2 ] n\n",
      "index[ 4 ] t\n",
      "index[ 6 ] v\n"
     ]
    }
   ],
   "source": [
    "# Exercise 3: Print characters from a string that are present at an even index number\n",
    "# Write a program to accept a string from the user and display characters that are present at an even index number.\n",
    "# For example, str = \"pynative\" so you should display ‘p’, ‘n’, ‘t’, ‘v’.\n",
    "\n",
    "def print_even_index_chars(str):\n",
    "    # Iterate over the string using for loop and check if the index is even\n",
    "    # \n",
    "    for index, string in enumerate(str):\n",
    "        if index % 2 == 0:\n",
    "            print(string)\n",
    "        else: \n",
    "            pass\n",
    "\n",
    "print_even_index_chars(\"pynative\")      \n",
    "\n",
    "\"\"\"\n",
    "enumerate(iterable, start=0)\n",
    "Return an enumerate object. iterable must be a sequence, an iterator, or some other object which supports iteration.\n",
    "The __next__() method of the iterator returned by enumerate() returns a tuple containing a count (from start which defaults to 0)\n",
    "and the values obtained from iterating over iterable.\n",
    "\"\"\"\n",
    "\n",
    "def print_even_index_chars(str):\n",
    "\n",
    "    size= len(str)\n",
    "    for i in range(0,size-1,2):\n",
    "        print('index',i, str[i])\n",
    "print_even_index_chars(\"pynative\")   \n",
    "\n",
    "\n",
    "# Solution\n",
    "word = input('Enter word ')\n",
    "print(\"Original String:\", word)\n",
    "\n",
    "# get the length of a string\n",
    "size = len(word)\n",
    "\n",
    "# iterate a each character of a string\n",
    "# start: 0 to start with first character\n",
    "# stop: size-1 because index starts with 0\n",
    "# step: 2 to get the characters present at even index like 0, 2, 4\n",
    "print(\"Printing only even index chars\")\n",
    "for i in range(0, size - 1, 2):\n",
    "    print(\"index[\", i, \"]\", word[i])\n",
    "\n",
    "\n",
    "# accept input string from a user\n",
    "word = input('Enter word ')\n",
    "print(\"Original String:\", word)\n",
    "\n",
    "# using list slicing\n",
    "# convert string to list\n",
    "# pick only even index chars\n",
    "x = list(word)\n",
    "for i in x[0::2]:\n",
    "    print(i)"
   ]
  },
  {
   "cell_type": "code",
   "execution_count": 9,
   "metadata": {},
   "outputs": [
    {
     "name": "stdout",
     "output_type": "stream",
     "text": [
      "tive\n"
     ]
    }
   ],
   "source": [
    "# Exercise 4: Remove first n characters from a string\n",
    "# Write a program to remove characters from a string starting from zero up to n and return a new string.\n",
    "\n",
    "# For example:\n",
    "# remove_chars(\"pynative\", 4) so output must be tive. Here, we need to remove the first four characters from a string.\n",
    "# remove_chars(\"pynative\", 2) so output must be native. Here, we need to remove the first two characters from a string.\n",
    "# Note: n must be less than the length of the string.\n",
    "\n",
    "def remove_chars(str, n):\n",
    "    return print(str[n:]) # slicing from string using braket  n to : (end)\n",
    "\n",
    "remove_chars(\"pynative\", 4)\n",
    "\n",
    "\n",
    "\n",
    "# Solution \n",
    "def remove_chars(word, n):\n",
    "    print('Original string:', word)\n",
    "    x = word[n:]\n",
    "    return x\n",
    "\n",
    "print(\"Removing characters from a string\")\n",
    "print(remove_chars(\"pynative\", 4))\n",
    "print(remove_chars(\"pynative\", 2))"
   ]
  },
  {
   "cell_type": "code",
   "execution_count": 16,
   "metadata": {},
   "outputs": [
    {
     "data": {
      "text/plain": [
       "True"
      ]
     },
     "execution_count": 16,
     "metadata": {},
     "output_type": "execute_result"
    }
   ],
   "source": [
    "# Exercise 5: Check if the first and last number of a list is the same\n",
    "# Write a function to return True if the first and last number of a given list is same. If numbers are different then return False.\n",
    "\n",
    "def check_value(numbers_x):\n",
    "    \n",
    "    if numbers_x[0] == numbers_x[-1]:\n",
    "        return True\n",
    "    else:\n",
    "        return False\n",
    "    \n",
    "check_value([10, 20, 30, 40, 10])\n",
    "#check_value([75, 65, 35, 75, 30])\n",
    "\n",
    "\n",
    "# Solution\n",
    "\n",
    "def first_last_same(numberList):\n",
    "    print(\"Given list:\", numberList)\n",
    "    \n",
    "    first_num = numberList[0]\n",
    "    last_num = numberList[-1]\n",
    "    \n",
    "    if first_num == last_num:\n",
    "        return True\n",
    "    else:\n",
    "        return False\n",
    "\n",
    "numbers_x = [10, 20, 30, 40, 10]\n",
    "print(\"result is\", first_last_same(numbers_x))\n",
    "\n",
    "numbers_y = [75, 65, 35, 75, 30]\n",
    "print(\"result is\", first_last_same(numbers_y))\n"
   ]
  },
  {
   "cell_type": "code",
   "execution_count": 18,
   "metadata": {},
   "outputs": [
    {
     "name": "stdout",
     "output_type": "stream",
     "text": [
      "Given List  [10, 20, 33, 46, 55]\n",
      "Divisible by 5\n",
      "10\n",
      "20\n",
      "55\n"
     ]
    }
   ],
   "source": [
    "# Exercise 6: Display numbers divisible by 5 from a list\n",
    "# Iterate the given list of numbers and print only those numbers which are divisible by 5\n",
    "\n",
    "def divide_by_5(list):\n",
    "    print(\"Given List \", list)\n",
    "    print(\"Divisible by 5\")\n",
    "    for num in list:\n",
    "        if num % 5 == 0:\n",
    "            print(num)\n",
    "        else:\n",
    "            pass\n",
    "\n",
    "divide_by_5([10, 20, 33, 46, 55])\n"
   ]
  },
  {
   "cell_type": "code",
   "execution_count": 21,
   "metadata": {},
   "outputs": [
    {
     "name": "stdout",
     "output_type": "stream",
     "text": [
      "2\n",
      "2\n"
     ]
    }
   ],
   "source": [
    "# Exercise 7: Return the count of a given substring from a string\n",
    "# Write a program to find how many times substring “Emma” appears in the given string.\n",
    "\n",
    "def compareteur(string , substring):\n",
    "    l=len(substring) # number of characters \n",
    "    count=0  # set value to initial of 0 \n",
    "    for i in range(len(string)-len(substring)+1): # range from length of string - length of substring +1\n",
    "        if(string[i:i+len(substring)]==substring):\n",
    "            count+=1\n",
    "    return print(count)\n",
    "\n",
    "compareteur(\"Emma is good developer. Emma is a writer\", \"Emma\")\n",
    "\n",
    "# Solution \n",
    "\n",
    "str_x = \"Emma is good developer. Emma is a writer\"\n",
    "# use count method of a str class\n",
    "cnt = str_x.count(\"Emma\")\n",
    "print(cnt)\n",
    "\n",
    "\n",
    "def count_emma(statement):\n",
    "    print(\"Given String: \", statement)\n",
    "    count = 0\n",
    "    for i in range(len(statement) - 1):\n",
    "        count += statement[i: i + 4] == 'Emma'\n",
    "    return count\n",
    "\n",
    "count = count_emma(\"Emma is good developer. Emma is a writer\")\n",
    "print(\"Emma appeared \", count, \"times\")\n",
    "\n",
    "# ==========================================================================================================\n",
    "def count_emma(statement):\n",
    "    print(\"Given String: \", statement)\n",
    "    \n",
    "    # Initialize a counter variable 'count' to zero. This will keep track of how many times \"Emma\" appears.\n",
    "    count = 0\n",
    "    \n",
    "    # Loop through each character in the string, stopping 3 characters before the end to avoid index errors.\n",
    "    # The range is calculated as len(statement) - 1 so that the loop can check for \"Emma\" without going out of bounds.\n",
    "    for i in range(len(statement) - 1):\n",
    "        # Check if the current substring (4 characters long) starting at index 'i' is equal to 'Emma'.\n",
    "        # If it is, increment the 'count' by 1.\n",
    "        count += statement[i: i + 4] == 'Emma'\n",
    "    \n",
    "    return count\n",
    "\n",
    "count = count_emma(\"Emma is good developer. Emma is a writer\")\n",
    "print(\"Emma appeared \", count, \"times\")\n"
   ]
  },
  {
   "cell_type": "code",
   "execution_count": 39,
   "metadata": {},
   "outputs": [
    {
     "name": "stdout",
     "output_type": "stream",
     "text": [
      "1  \n",
      "2 2  \n",
      "3 3 3  \n",
      "4 4 4 4  \n",
      "5 5 5 5 5  \n",
      "\n",
      "\n",
      "1 \n",
      "\n",
      "2 2 \n",
      "\n",
      "3 3 3 \n",
      "\n",
      "4 4 4 4 \n",
      "\n",
      "5 5 5 5 5 \n",
      "\n",
      "6 6 6 6 6 6 \n",
      "\n",
      "7 7 7 7 7 7 7 \n",
      "\n",
      "8 8 8 8 8 8 8 8 \n",
      "\n",
      "9 9 9 9 9 9 9 9 9 \n",
      "\n"
     ]
    }
   ],
   "source": [
    "# Exercise 8: Print the following pattern\n",
    "# 1 \n",
    "# 2 2 \n",
    "# 3 3 3 \n",
    "# 4 4 4 4 \n",
    "# 5 5 5 5 5\n",
    "row= int(input())\n",
    "number = 0\n",
    "for i in range(1,row+1):\n",
    "    number += 1\n",
    "    for j in range(i): \n",
    "        print(number, end=' ')\n",
    "    print(' ')\n",
    "\n",
    "# Solution \n",
    "\n",
    "for num in range(10):\n",
    "    for i in range(num):\n",
    "        print (num, end=\" \") #print number\n",
    "    # new line after each row to display pattern correctly\n",
    "    print(\"\\n\")"
   ]
  },
  {
   "cell_type": "code",
   "execution_count": 41,
   "metadata": {},
   "outputs": [
    {
     "name": "stdout",
     "output_type": "stream",
     "text": [
      "Given number is not palindrome\n",
      "Given number palindrome\n"
     ]
    }
   ],
   "source": [
    "# Exercise 9: Check Palindrome Number\n",
    "# Write a program to check if the given number is a palindrome number.\n",
    "# A palindrome number is a number that is the same after reverse. For example, 545, is the palindrome numbers\n",
    "\n",
    "def palindrome_number(num):\n",
    "    num_str = str(num)\n",
    "    # num_str[::-1] creates a reversed version of the string.\n",
    "    if num_str == num_str[::-1]:\n",
    "        print(\"Given number palindrome\")\n",
    "    else:\n",
    "        print(\"Given number is not palindrome\")\n",
    "\n",
    "palindrome_number(125)\n",
    "palindrome_number(121)\n",
    "\n",
    "# Solution\n",
    "def palindrome(number):\n",
    "    print(\"original number\", number)\n",
    "    original_num = number\n",
    "\n",
    "# reverse the given number\n",
    "    reverse_num = 0\n",
    "    while number > 0:\n",
    "        reminder = number % 10\n",
    "        reverse_num = (reverse_num * 10) + reminder\n",
    "        number = number // 10\n",
    "\n",
    "    # check numbers\n",
    "    if original_num == reverse_num:\n",
    "        print(\"Given number palindrome\")\n",
    "    else:\n",
    "        print(\"Given number is not palindrome\")\n",
    "\n",
    "palindrome(121)\n",
    "palindrome(125)\n"
   ]
  },
  {
   "cell_type": "code",
   "execution_count": 42,
   "metadata": {},
   "outputs": [
    {
     "name": "stdout",
     "output_type": "stream",
     "text": [
      "[25, 35, 40, 60, 90]\n"
     ]
    }
   ],
   "source": [
    "# Exercise 10: Create a new list from two list using the following condition\n",
    "# Create a new list from two list using the following condition\n",
    "\n",
    "# Given two list of numbers, write a program to create a new list such that the new list should contain odd numbers from the first list and even numbers from the second list.\n",
    "\n",
    "\n",
    "\n",
    "def odd_and_even(list1, list2):\n",
    "    # create a new third list\n",
    "    # loop from list1 odd and append to new list\n",
    "    # loop from list2 even and append to new list\n",
    "    new_list = []\n",
    "    for i in list1:\n",
    "        if i % 2 != 0:\n",
    "            new_list.append(i)\n",
    "    for i in list2:\n",
    "        if i % 2 == 0:\n",
    "            new_list.append(i)\n",
    "    print(new_list)\n",
    "\n",
    "    return new_list\n",
    "\n",
    "list1 = [10, 20, 25, 30, 35]\n",
    "list2 = [40, 45, 60, 75, 90]\n",
    "odd_and_even(list1, list2)\n",
    "\n",
    "\n",
    "# Solution\n",
    "def merge_list(list1, list2):\n",
    "    result_list = []\n",
    "    \n",
    "    # iterate first list\n",
    "    for num in list1:\n",
    "        # check if current number is odd\n",
    "        if num % 2 != 0:\n",
    "            # add odd number to result list\n",
    "            result_list.append(num)\n",
    "    \n",
    "    # iterate second list\n",
    "    for num in list2:\n",
    "        # check if current number is even\n",
    "        if num % 2 == 0:\n",
    "            # add even number to result list\n",
    "            result_list.append(num)\n",
    "    return result_list\n",
    "\n",
    "list1 = [10, 20, 25, 30, 35]\n",
    "list2 = [40, 45, 60, 75, 90]\n",
    "print(\"result list:\", merge_list(list1, list2))\n"
   ]
  },
  {
   "cell_type": "code",
   "execution_count": 49,
   "metadata": {},
   "outputs": [
    {
     "name": "stdout",
     "output_type": "stream",
     "text": [
      "6 7 5\n",
      "Given number 7536\n",
      "6 3 5 7 "
     ]
    }
   ],
   "source": [
    "# Exercise 11: Write a Program to extract each digit from an integer in the reverse order.\n",
    "# For example, If the given int is 7536, the output shall be “6 3 5 7“, with a space separating the digits.\n",
    "\n",
    "def extractdigit(integer_num):\n",
    "    # Convert the integer into a string to easily access each digit\n",
    "    str_num = str(integer_num)\n",
    "    # Reverse the string to get the digits in reverse order\n",
    "    str_num1 = str_num[::-1]\n",
    "    # separate the string with a space\n",
    "    str_num1 = ' '.join(str_num1)\n",
    "    return  str_num1\n",
    "\n",
    "print(extractdigit(576))\n",
    "\n",
    "# Solution\n",
    "number = 7536\n",
    "print(\"Given number\", number)\n",
    "while number > 0:\n",
    "    # get the last digit\n",
    "    digit = number % 10\n",
    "    # remove the last digit and repeat the loop\n",
    "    number = number // 10\n",
    "    print(digit, end=\" \")"
   ]
  },
  {
   "cell_type": "code",
   "execution_count": 58,
   "metadata": {},
   "outputs": [
    {
     "name": "stdout",
     "output_type": "stream",
     "text": [
      "The income tax for an income of $ 45000 is $ 6000.0\n",
      "Given income 45000\n",
      "Total tax to pay is 6000.0\n"
     ]
    }
   ],
   "source": [
    "# Exercise 12: Calculate income tax for the given income by adhering to the rules below\n",
    "# Taxable Income\tRate (in %)\n",
    "# First $10,000\t0\n",
    "# Next $10,000\t10\n",
    "# The remaining\t20\n",
    "\n",
    "\n",
    "def calculate_income_tax_1(income):\n",
    "    if income <= 10000:\n",
    "        tax_payable_income = 0\n",
    "    elif income <= 20000:\n",
    "        # cause it is equal the income - 10000 ( we don't charge the first 1000)\n",
    "        tax_payable_income = (income - 10000) * 0.1 \n",
    "    else:\n",
    "        # Tax for the first $10,000 is 0, next $10,000 is at 10%, and the remaining is at 20%\n",
    "        tax_payable_income = (10000 * 0.1) + (income - 20000) * 0.2\n",
    "    return tax_payable_income\n",
    "\n",
    "income = 45000\n",
    "\n",
    "print(\"The income tax for an income of $\", income, \"is $\", calculate_income_tax_1(income))\n",
    "\n",
    "# Solution\n",
    "\n",
    "income = 45000\n",
    "tax_payable = 0\n",
    "print(\"Given income\", income)\n",
    "\n",
    "if income <= 10000:\n",
    "    tax_payable = 0\n",
    "elif income <= 20000:\n",
    "    # no tax on first 10,000\n",
    "    x = income - 10000\n",
    "    # 10% tax\n",
    "    tax_payable = x * 10 / 100\n",
    "else:\n",
    "    # first 10,000\n",
    "    tax_payable = 0\n",
    "\n",
    "    # next 10,000 10% tax\n",
    "    tax_payable = 10000 * 10 / 100\n",
    "\n",
    "    # remaining 20%tax\n",
    "    tax_payable += (income - 20000) * 20 / 100\n",
    "\n",
    "print(\"Total tax to pay is\", tax_payable)"
   ]
  },
  {
   "cell_type": "code",
   "execution_count": 67,
   "metadata": {},
   "outputs": [
    {
     "name": "stdout",
     "output_type": "stream",
     "text": [
      "1 2 3 4 5 6 7 8 9 10 \n",
      "2 4 6 8 10 12 14 16 18 20 \n",
      "3 6 9 12 15 18 21 24 27 30 \n",
      "4 8 12 16 20 24 28 32 36 40 \n",
      "5 10 15 20 25 30 35 40 45 50 \n",
      "6 12 18 24 30 36 42 48 54 60 \n",
      "7 14 21 28 35 42 49 56 63 70 \n",
      "8 16 24 32 40 48 56 64 72 80 \n",
      "9 18 27 36 45 54 63 72 81 90 \n",
      "10 20 30 40 50 60 70 80 90 100 \n"
     ]
    }
   ],
   "source": [
    "# Exercise 13: Print multiplication table from 1 to 10\n",
    "\n",
    "# Outer loop for numbers 1 through 10 (i.e., rows of the table)\n",
    "for i in range(1, 11):  # 'i' represents the multiplier (the number we are multiplying with)\n",
    "    # Inner loop for numbers 1 through 10 (i.e., columns of the table)\n",
    "    for j in range(1, 11):  # 'j' represents the multiplicand (the number being multiplied)\n",
    "        # Multiply 'i' and 'j' and print the result in the same line.\n",
    "        # 'end=\" \"' ensures that the results are printed on the same line with a space in between.\n",
    "        print(i * j, end=' ')\n",
    "    # After printing all the products for a single row (i.e., after the inner loop ends),\n",
    "    # print a newline to move to the next row of the multiplication table.\n",
    "    print()  # Moves to the next line after printing each row"
   ]
  },
  {
   "cell_type": "code",
   "execution_count": 3,
   "metadata": {},
   "outputs": [
    {
     "name": "stdout",
     "output_type": "stream",
     "text": [
      "* * * * * \n",
      "* * * * \n",
      "* * * \n",
      "* * \n",
      "* \n"
     ]
    }
   ],
   "source": [
    "# Exercise 14: Print a downward Half-Pyramid Pattern of Star (asterisk)\n",
    "# Take the number of rows for the pattern from user input\n",
    "start_at_five = 5\n",
    "goes_to_zero =0\n",
    "decrease_by_minus_one = -1\n",
    "# Initialize the character to be printed (an asterisk)\n",
    "asterisk = \"*\"\n",
    "# Outer loop to control the number of rows\n",
    "# The loop starts from 'row' and decreases to 1\n",
    "for decrease_number_from_each_iteration in range(start_at_five, goes_to_zero, decrease_by_minus_one):\n",
    "    # Inner loop to control the number of asterisks printed in each row\n",
    "    # This prints 'i' asterisks in each row\n",
    "    for j in range(decrease_number_from_each_iteration):\n",
    "        print(asterisk, end=' ')  # Print the asterisks on the same line with a space\n",
    "    # Move to the next line after printing all asterisks for the current row\n",
    "    print()\n",
    "\n",
    "\n"
   ]
  },
  {
   "cell_type": "code",
   "execution_count": 4,
   "metadata": {},
   "outputs": [
    {
     "name": "stdout",
     "output_type": "stream",
     "text": [
      "2  raises to the power of 5 is:  32\n"
     ]
    }
   ],
   "source": [
    "# Exercise 15: Write a function called exponent(base, exp) that returns an int value of base raises to the power of exp\n",
    "\n",
    "def exponent(base, exp):\n",
    "    if base > 0 and exp >0:\n",
    "        result = (base ** exp)\n",
    "    else:\n",
    "        print(\"Cannot do the calculation\")\n",
    "    return print(base ,\" raises to the power of\", exp, \"is: \",result)\n",
    "\n",
    "base = 2\n",
    "exp = 5\n",
    "\n",
    "exponent(base, exp)\n",
    "\n",
    "# Solution\n",
    "def exponent(base, exp):\n",
    "    num = exp\n",
    "    result = 1\n",
    "    while num > 0:\n",
    "        result = result * base\n",
    "        num = num - 1\n",
    "    print(base, \"raises to the power of\", exp, \"is: \", result)\n",
    "\n",
    "exponent(5, 4)"
   ]
  },
  {
   "cell_type": "code",
   "execution_count": 7,
   "metadata": {},
   "outputs": [
    {
     "name": "stdout",
     "output_type": "stream",
     "text": [
      "0\n",
      "1\n",
      "2\n",
      "3\n",
      "4\n",
      "5\n",
      "6\n",
      "7\n",
      "8\n",
      "9\n",
      "10\n"
     ]
    }
   ],
   "source": [
    "# Exercise 1: Print First 10 natural numbers using while loop\n",
    "i = 0\n",
    "while i<=10:\n",
    "    print(i)\n",
    "    i+=1"
   ]
  },
  {
   "cell_type": "code",
   "execution_count": 12,
   "metadata": {},
   "outputs": [
    {
     "name": "stdout",
     "output_type": "stream",
     "text": [
      "1 \n",
      "1 2 \n",
      "1 2 3 \n",
      "1 2 3 4 \n",
      "1 2 3 4 5 \n"
     ]
    }
   ],
   "source": [
    "# https://pynative.com/print-pattern-python-examples/\n",
    "# Exercise 2: Print the following pattern\n",
    "start_value = 1\n",
    "number_of_rows = 5\n",
    "\n",
    "for increase_rows in range(start_value,number_of_rows+1):\n",
    "    for increase_columns in range(1,increase_rows+1):\n",
    "        # Display number\n",
    "        print(increase_columns,end=' ')\n",
    "    # add new line\n",
    "    print()\n",
    "\n"
   ]
  },
  {
   "cell_type": "code",
   "execution_count": 31,
   "metadata": {},
   "outputs": [
    {
     "name": "stdout",
     "output_type": "stream",
     "text": [
      "total sum 45\n"
     ]
    },
    {
     "ename": "TypeError",
     "evalue": "'int' object is not callable",
     "output_type": "error",
     "traceback": [
      "\u001b[1;31m---------------------------------------------------------------------------\u001b[0m",
      "\u001b[1;31mTypeError\u001b[0m                                 Traceback (most recent call last)",
      "Cell \u001b[1;32mIn[31], line 15\u001b[0m\n\u001b[0;32m     12\u001b[0m \u001b[38;5;66;03m# Check if the input is a positive number\u001b[39;00m\n\u001b[0;32m     13\u001b[0m \u001b[38;5;28;01mif\u001b[39;00m n \u001b[38;5;241m>\u001b[39m \u001b[38;5;241m0\u001b[39m:\n\u001b[0;32m     14\u001b[0m     \u001b[38;5;66;03m# Calculate the sum of the range from 1 to n\u001b[39;00m\n\u001b[1;32m---> 15\u001b[0m     x \u001b[38;5;241m=\u001b[39m \u001b[38;5;28;43msum\u001b[39;49m\u001b[43m(\u001b[49m\u001b[38;5;28;43mrange\u001b[39;49m\u001b[43m(\u001b[49m\u001b[38;5;241;43m1\u001b[39;49m\u001b[43m,\u001b[49m\u001b[43m \u001b[49m\u001b[43mn\u001b[49m\u001b[43m \u001b[49m\u001b[38;5;241;43m+\u001b[39;49m\u001b[43m \u001b[49m\u001b[38;5;241;43m1\u001b[39;49m\u001b[43m)\u001b[49m\u001b[43m)\u001b[49m\n\u001b[0;32m     16\u001b[0m     \u001b[38;5;28mprint\u001b[39m(\u001b[38;5;124m'\u001b[39m\u001b[38;5;124mSum is:\u001b[39m\u001b[38;5;124m'\u001b[39m, x)\n\u001b[0;32m     17\u001b[0m \u001b[38;5;28;01melse\u001b[39;00m:\n",
      "\u001b[1;31mTypeError\u001b[0m: 'int' object is not callable"
     ]
    }
   ],
   "source": [
    "# Exercise 3: Calculate the sum of all numbers from 1 to a given number\n",
    "# Using for loop and range() function\n",
    "total = 0\n",
    "number = 9\n",
    "for i in range(1,number+1,1):\n",
    "    total +=i\n",
    "print(\"total sum\", total)\n",
    "\n",
    "# Prompt the user to enter a positive integer\n",
    "n = int(input(\"Enter a positive integer: \"))\n",
    "# Calculate the sum of the range from 1 to n\n",
    "x = sum(range(1, n + 1))\n",
    "print('Sum is:', x)\n",
    "\n"
   ]
  },
  {
   "cell_type": "code",
   "execution_count": 37,
   "metadata": {},
   "outputs": [
    {
     "name": "stdout",
     "output_type": "stream",
     "text": [
      "2\n",
      "4\n",
      "6\n",
      "8\n",
      "10\n",
      "12\n",
      "14\n",
      "16\n",
      "18\n",
      "20\n",
      "2\n",
      "4\n",
      "6\n",
      "8\n",
      "10\n",
      "12\n",
      "14\n",
      "16\n",
      "18\n",
      "20\n"
     ]
    }
   ],
   "source": [
    "# Exercise 4: Write a program to print multiplication table of a given number\n",
    "\n",
    "for i in range(1,11):\n",
    "    num = 2\n",
    "    total = num*i\n",
    "    print(total)\n",
    "# Solution \n",
    "n = 2\n",
    "# stop: 11 (because range never include stop number in result)\n",
    "# run loop 10 times\n",
    "for i in range(1, 11, 1):\n",
    "    # 2 *i (current number)\n",
    "    product = n * i\n",
    "    print(product)"
   ]
  },
  {
   "cell_type": "code",
   "execution_count": 38,
   "metadata": {},
   "outputs": [
    {
     "name": "stdout",
     "output_type": "stream",
     "text": [
      "75\n",
      "150\n",
      "145\n"
     ]
    }
   ],
   "source": [
    "# Exercise 5: Display numbers from a list using loop\n",
    "# Write a program to display only those numbers from a list that satisfy the following conditions\n",
    "\n",
    "# The number must be divisible by five\n",
    "# If the number is greater than 150, then skip it and move to the next number\n",
    "# If the number is greater than 500, then stop the loop\n",
    "\n",
    "numbers = [12, 75, 150, 180, 145, 525, 50]\n",
    "\n",
    "for number in numbers:\n",
    "    if number > 500:\n",
    "        break\n",
    "    elif number > 150:\n",
    "        continue\n",
    "    elif number % 5 == 0:\n",
    "        print(number)"
   ]
  },
  {
   "cell_type": "code",
   "execution_count": 42,
   "metadata": {},
   "outputs": [
    {
     "name": "stdout",
     "output_type": "stream",
     "text": [
      "Total digits are: 4\n"
     ]
    }
   ],
   "source": [
    "# Exercise 6: Count the total number of digits in a number\n",
    "# Write a program to count the total number of digits in a number using a while loop.\n",
    "\n",
    "# For example, the number is 75869, so the output should be 5.\n",
    "\n",
    "def count_digit(num):\n",
    "    string_number = str(num)\n",
    "    count = len(string_number)\n",
    "    return count\n",
    "\n",
    "print(\"Total digits are:\", count_digit(5121))\n"
   ]
  },
  {
   "cell_type": "code",
   "execution_count": 48,
   "metadata": {},
   "outputs": [
    {
     "name": "stdout",
     "output_type": "stream",
     "text": [
      "5 4 3 2 1 \n",
      "4 3 2 1 \n",
      "3 2 1 \n",
      "2 1 \n",
      "1 \n"
     ]
    }
   ],
   "source": [
    "# Exercise 7: Print the following pattern\n",
    "# Write a program to use for loop to print the following reverse number pattern\n",
    "# 5 4 3 2 1 \n",
    "# 4 3 2 1 \n",
    "# 3 2 1 \n",
    "# 2 1 \n",
    "# 1\n",
    "\n",
    "#===========================================================\n",
    "# Hint \n",
    "# Set row = 5 because the above pattern contains five rows\n",
    "# create an outer loop to iterate numbers from 1 to 5 using for loop and range() function\n",
    "# Create an inner loop inside the outer loop in such a way that in each iteration of the outer loop, the inner loop iteration will be reduced by i. i is the current number of an outer loop\n",
    "# In each iteration of the inner loop, print the iterator variable of the inner loop (j)\n",
    "\n",
    "# Note:\n",
    "# In the first iteration of the outer loop inner loop execute five times.\n",
    "# In the second iteration of the outer loop inner loop execute four times.\n",
    "# In the last iteration of the outer loop, the inner loop will execute only once\n",
    "#===========================================================\n",
    "\n",
    "start_value = 0\n",
    "number_of_rows = 5\n",
    "\n",
    "for decrease_row in range(number_of_rows,start_value,-1):\n",
    "    for decrease_columns in range(decrease_row,0,-1):\n",
    "        # Display number\n",
    "        print(decrease_columns,end=' ')\n",
    "    # add new line\n",
    "    print()\n",
    "\n",
    "# Solution\n",
    "n = 5\n",
    "k = 5\n",
    "for i in range(0,n+1):\n",
    "    for j in range(k-i,0,-1):\n",
    "        print(j,end=' ')\n",
    "    print()\n"
   ]
  },
  {
   "cell_type": "code",
   "execution_count": 55,
   "metadata": {},
   "outputs": [
    {
     "name": "stdout",
     "output_type": "stream",
     "text": [
      "[50, 40, 30, 20, 10]\n",
      "[50, 40, 30, 20, 10]\n",
      "[50, 40, 30, 20, 10]\n"
     ]
    }
   ],
   "source": [
    "# Exercise 8: Print list in reverse order using a loop\n",
    "list1 = [10, 20, 30, 40, 50]\n",
    "def reverselist_method1(list1):\n",
    "    list_method1= []\n",
    "    for i in range(len(list1)-1, -1, -1):\n",
    "        list_method1.append(list1[i])\n",
    "    return list_method1\n",
    "print(reverselist_method1(list1))\n",
    "\n",
    "def reverselist_method2(list1):\n",
    "    reversed_list = list(reversed(list1))\n",
    "    return reversed_list\n",
    "print(reverselist_method2(list1))\n",
    "\n",
    "def reverselist_method3(list1):\n",
    "# Slice the list from the end to the beginning with a step of -1 (reverse order)\n",
    "    reversed_list = list1[::-1]  # This allows slicing the entire list from back to front, starting at -1.\n",
    "    return reversed_list\n",
    "print(reverselist_method3(list1))\n",
    "# =========================================================================================================\n",
    "# Solution 1: Using a reversed() function and for loop\n",
    "\n",
    "list1 = [10, 20, 30, 40, 50]\n",
    "# reverse list\n",
    "new_list = reversed(list1)\n",
    "# iterate reversed list\n",
    "for item in new_list:\n",
    "    print(item)\n",
    "\n",
    "# Solution 2: Using for loop and the len() function\n",
    "\n",
    "list1 = [10, 20, 30, 40, 50]\n",
    "# get list size\n",
    "# len(list1) -1: because index start with 0\n",
    "# iterate list in reverse order\n",
    "# star from last item to first\n",
    "size = len(list1) - 1\n",
    "for i in range(size, -1, -1):\n",
    "    print(list1[i])"
   ]
  },
  {
   "cell_type": "code",
   "execution_count": 59,
   "metadata": {},
   "outputs": [
    {
     "name": "stdout",
     "output_type": "stream",
     "text": [
      "-10\n",
      "-9\n",
      "-8\n",
      "-7\n",
      "-6\n",
      "-5\n",
      "-4\n",
      "-3\n",
      "-2\n",
      "-1\n"
     ]
    }
   ],
   "source": [
    "# Exercise 9: Display numbers from -10 to -1 using for loop\n",
    "\n",
    "for negative_num in range(-10,0,1):\n",
    "    print(negative_num)"
   ]
  },
  {
   "cell_type": "code",
   "execution_count": 64,
   "metadata": {},
   "outputs": [
    {
     "name": "stdout",
     "output_type": "stream",
     "text": [
      "0\n",
      "1\n",
      "2\n",
      "3\n",
      "4\n",
      "Done !\n"
     ]
    }
   ],
   "source": [
    "# Exercise 10: Use else block to display a message “Done” after successful execution of for loop\n",
    "# For example, the following loop will execute without any error.\n",
    "for i in range(5):\n",
    "    print(i)\n",
    "else:\n",
    "    print(\"Done !\")  # This will be executed after the loop finishes"
   ]
  },
  {
   "cell_type": "code",
   "execution_count": 72,
   "metadata": {},
   "outputs": [
    {
     "name": "stdout",
     "output_type": "stream",
     "text": [
      "29\n",
      "31\n",
      "37\n",
      "41\n",
      "43\n",
      "47\n"
     ]
    }
   ],
   "source": [
    "# Exercise 11: Write a program to display all prime numbers within a range\n",
    "# Note: A Prime Number is a number that cannot be made by multiplying other whole numbers. A prime number is a natural number greater than 1 that is not a product of two smaller natural numbers\n",
    "# Examples:\n",
    "# 6 is not a prime mumber because it can be made by 2×3 = 6\n",
    "# 37 is a prime number because no other whole numbers multiply together to make it.\n",
    "\n",
    "# range\n",
    "# Define the start and end of the range\n",
    "start = 25\n",
    "end = 50\n",
    "\n",
    "# Loop through each number in the range from start to end (inclusive)\n",
    "for num in range(start, end + 1):\n",
    "   # Check if the number is greater than 1, as prime numbers are greater than 1\n",
    "   if num > 1:       \n",
    "       # Loop from 2 to the square root of the number (inclusive) to check for factors\n",
    "       for i in range(2, int(num**0.5) + 1):\n",
    "           # If num is divisible by i, it is not a prime number\n",
    "           if (num % i) == 0:\n",
    "               break  # Exit the loop as the number is not prime\n",
    "       # The else block executes if the loop completes without finding a factor\n",
    "       else:\n",
    "           print(num)  # Print the number, as it is a prime number\n",
    "\n"
   ]
  },
  {
   "cell_type": "code",
   "execution_count": 78,
   "metadata": {},
   "outputs": [
    {
     "name": "stdout",
     "output_type": "stream",
     "text": [
      "Fibonacci sequence:\n",
      "0 1 1 2 3 5 8 13 21 34 "
     ]
    }
   ],
   "source": [
    "# Exercise 12: Display Fibonacci series up to 10 terms\n",
    "# The Fibonacci Sequence is a series of numbers. The next number is found by adding up the two numbers before it. The first two numbers are 0 and 1.\n",
    "# For example, 0, 1, 1, 2, 3, 5, 8, 13, 21. The next number in this series above is 13+21 = 34.\n",
    "\n",
    "num1, num2 = 0, 1\n",
    "print(\"Fibonacci sequence:\")\n",
    "for i in range(10):\n",
    "     # print next number of a series\n",
    "    print(num1,end=' ')\n",
    "    # add last two numbers to get next number\n",
    "    res= num1 + num2\n",
    "    # update values\n",
    "    num1=num2 \n",
    "    num2=res\n",
    "    \n",
    "# Set num1 = 0 and num2 =1 (first two numbers of the sequence)\n",
    "# Run loop ten times\n",
    "# In each iteration\n",
    "# print num1 as the current number of the sequence\n",
    "# Add last two numbers to get the next number res = num1+ num2\n",
    "# update values of num1 and num2. Set num1=num2 and num2=res"
   ]
  },
  {
   "cell_type": "code",
   "execution_count": 87,
   "metadata": {},
   "outputs": [
    {
     "name": "stdout",
     "output_type": "stream",
     "text": [
      "factoriel: 2432902008176640000\n",
      "The factorial of 20 is 2432902008176640000\n"
     ]
    }
   ],
   "source": [
    "# Exercise 13: Find the factorial of a given number\n",
    "# Write a program to use the loop to find the factorial of a given number.\n",
    "\n",
    "# The factorial (symbol: !) means to multiply all whole numbers from the chosen number down to 1\n",
    "\n",
    "# Set variable factorial =1 to store factorial of a given number\n",
    "# Iterate numbers starting from 1 to the given number n using for loop and range() function. (here, the loop will run five times because n is 5)\n",
    "# In each iteration, multiply factorial by the current number and assign it again to a factorial variable (factorial = factorial *i)\n",
    "# After the loop completes, print factorial\n",
    "n = 20\n",
    "factorial = 1\n",
    "for i in range(1,n):\n",
    "    n = n * i  # multiply factorial by current number\n",
    "print( \"factoriel:\", n)\n",
    "\n"
   ]
  },
  {
   "cell_type": "code",
   "execution_count": 88,
   "metadata": {},
   "outputs": [
    {
     "name": "stdout",
     "output_type": "stream",
     "text": [
      "24567\n"
     ]
    }
   ],
   "source": [
    "# Exercise 14: Reverse a given integer number\n",
    "# Given:\n",
    "# 76542\n",
    "# Expected output:\n",
    "# 24567\n",
    "\n",
    "def reverse_int(integer_number):\n",
    "    return int(str(integer_number)[::-1])\n",
    "\n",
    "print(reverse_int(76542))\n",
    "\n"
   ]
  },
  {
   "cell_type": "code",
   "execution_count": 90,
   "metadata": {},
   "outputs": [
    {
     "name": "stdout",
     "output_type": "stream",
     "text": [
      "[20, 40, 60, 80, 100]\n",
      "20 40 60 80 100 "
     ]
    }
   ],
   "source": [
    "# Exercise 15: Use a loop to display elements from a given list present at odd index positions\n",
    "# Given:\n",
    "# my_list = [10, 20, 30, 40, 50, 60, 70, 80, 90, 100]\n",
    "# Note: list index always starts at 0\n",
    "# Expected output:\n",
    "# 20 40 60 80 100\n",
    "\n",
    "def odd_index(list):\n",
    "    empty_list = []\n",
    "    for index , number in enumerate(list):\n",
    "        if index % 2 !=0:\n",
    "            empty_list.append(number)\n",
    "        else:\n",
    "            continue\n",
    "    return empty_list\n",
    "\n",
    "\n",
    "my_list = [10, 20, 30, 40, 50, 60, 70, 80, 90, 100]\n",
    "\n",
    "print(odd_index(my_list))\n",
    "\n",
    "my_list = [10, 20, 30, 40, 50, 60, 70, 80, 90, 100]\n",
    "# stat from index 1 with step 2( means 1, 3, 5, an so on)\n",
    "for i in my_list[1::2]:\n",
    "    print(i, end=\" \")"
   ]
  },
  {
   "cell_type": "code",
   "execution_count": 93,
   "metadata": {},
   "outputs": [
    {
     "name": "stdout",
     "output_type": "stream",
     "text": [
      "Current Number is :  1 and the cube is  1\n",
      "Current Number is :  2 and the cube is  8\n",
      "Current Number is :  3 and the cube is  27\n",
      "Current Number is :  4 and the cube is  64\n",
      "Current Number is :  5 and the cube is  125\n",
      "Current Number is :  6 and the cube is  216\n"
     ]
    }
   ],
   "source": [
    "# Exercise 16: Calculate the cube of all numbers from 1 to a given number\n",
    "# Write a program to rint the cube of all numbers from 1 to a given number\n",
    "input_number = 6\n",
    "\n",
    "\n",
    "for number in range(1,input_number+1):\n",
    "    print( 'Current Number is : ', number, 'and the cube is ', number **3)"
   ]
  },
  {
   "cell_type": "code",
   "execution_count": 99,
   "metadata": {},
   "outputs": [
    {
     "name": "stdout",
     "output_type": "stream",
     "text": [
      "2+22+222+2222+22222+"
     ]
    },
    {
     "data": {
      "text/plain": [
       "24690"
      ]
     },
     "execution_count": 99,
     "metadata": {},
     "output_type": "execute_result"
    }
   ],
   "source": [
    "# Exercise 17: Find the sum of the series upto n terms\n",
    "# Write a program to calculate the sum of series up to n term. For example, if n =5 the series will become 2 + 22 + 222 + 2222 + 22222 = 24690\n",
    "\n",
    "def upto(n, multiple):\n",
    "    sum = 0\n",
    "    for i in range(1, n+1):\n",
    "        sum += int(multiple * i)\n",
    "        test = multiple * i\n",
    "        print(test, end='+')\n",
    "    return sum\n",
    "\n",
    "upto(5, '2')"
   ]
  },
  {
   "cell_type": "code",
   "execution_count": 107,
   "metadata": {},
   "outputs": [
    {
     "name": "stdout",
     "output_type": "stream",
     "text": [
      "* \n",
      "* * \n",
      "* * * \n",
      "* * * * \n",
      "* * * * * \n",
      "* * * * \n",
      "* * * \n",
      "* * \n",
      "* \n"
     ]
    }
   ],
   "source": [
    "# Exercise 18: Print the following pattern\n",
    "# Write a program to print the following start pattern using the for loop\n",
    "# * \n",
    "# * * \n",
    "# * * * \n",
    "# * * * * \n",
    "# * * * * * \n",
    "# * * * * \n",
    "# * * * \n",
    "# * * \n",
    "# *\n",
    "rows = 5\n",
    "for i in range(1,rows+1):\n",
    "    for j in range(i):\n",
    "        print('*', end=' ')\n",
    "    print()\n",
    "for i in range(rows, 1,-1):\n",
    "    for j in range(i-1):\n",
    "        print('*', end=' ')\n",
    "    print()"
   ]
  },
  {
   "cell_type": "markdown",
   "metadata": {},
   "source": [
    "# **Python String Exercise with Solutions**"
   ]
  },
  {
   "cell_type": "code",
   "execution_count": 121,
   "metadata": {},
   "outputs": [
    {
     "name": "stdout",
     "output_type": "stream",
     "text": [
      "Original String is James\n",
      "New String: Jms\n"
     ]
    }
   ],
   "source": [
    "# Exercise 1A: Create a string made of the first, middle and last character\n",
    "# Write a program to create a new string made of an input string’s first, middle, and last character.\n",
    "# Given:\n",
    "# str1 = \"James\"\n",
    "\n",
    "str1 = \"James\"\n",
    "print(\"Original String is\", str1)\n",
    "start = str1[:1]\n",
    "middle = str1[len(str1)//2] \n",
    "end = str1[-1:]\n",
    "full= start+middle+end\n",
    "print(\"New String:\", full)"
   ]
  },
  {
   "cell_type": "code",
   "execution_count": 128,
   "metadata": {},
   "outputs": [
    {
     "name": "stdout",
     "output_type": "stream",
     "text": [
      "5\n",
      "Son\n"
     ]
    },
    {
     "data": {
      "text/plain": [
       "'Son'"
      ]
     },
     "execution_count": 128,
     "metadata": {},
     "output_type": "execute_result"
    }
   ],
   "source": [
    "# Exercise 1B: Create a string made of the middle three characters\n",
    "# Write a program to create a new string made of the middle three characters of an input string.\n",
    "\n",
    "# Given:\n",
    "# Case 1\n",
    "# str1 = \"JhonDipPeta\"\n",
    "# Output\n",
    "# Dip\n",
    "# Case 2\n",
    "# str2 = \"JaSonAy\"\n",
    "# Output\n",
    "# Son\n",
    "\n",
    "#V1 :\n",
    "user_input = str(input())\n",
    "\n",
    "length = len(user_input)\n",
    "middle = int(length / 2)\n",
    "get_value = middle + 2\n",
    "print(get_value)\n",
    "result = user_input[middle-1:get_value]\n",
    "print(result)\n",
    "#V2:\n",
    "\n",
    "def get_middle_three_chars(str1):\n",
    "    length = len(str1)\n",
    "    middle = int(length / 2)\n",
    "    get_next_charaters = middle + 2\n",
    "    result = user_input[middle-1:get_next_charaters]\n",
    "    return result\n",
    "\n",
    "get_middle_three_chars('JhonDipPeta')\n",
    "get_middle_three_chars('JaSonAy')\n",
    "\n"
   ]
  },
  {
   "cell_type": "code",
   "execution_count": 142,
   "metadata": {},
   "outputs": [
    {
     "name": "stdout",
     "output_type": "stream",
     "text": [
      "Au\n",
      "AuKelly\n",
      "AuKellylt\n"
     ]
    },
    {
     "data": {
      "text/plain": [
       "'AuKellylt'"
      ]
     },
     "execution_count": 142,
     "metadata": {},
     "output_type": "execute_result"
    }
   ],
   "source": [
    "# Exercise 2: Append new string in the middle of a given string\n",
    "# Given two strings, s1 and s2. Write a program to create a new string s3 by appending s2 in the middle of s1\n",
    "# Given:\n",
    "# s1 = \"Ault\"\n",
    "# s2 = \"Kelly\"\n",
    "def middle_string(s1, s2):\n",
    "    mi = int(len(s1) / 2)\n",
    "\n",
    "    # get character from 0 to the middle index number from s1\n",
    "    x = s1[:mi:]\n",
    "    print(x)\n",
    "    # concatenate s2 to it\n",
    "    x = x + s2\n",
    "    print(x)\n",
    "    # append remaining character from s1\n",
    "    s3 = x + s1[mi:]\n",
    "    print(s3)\n",
    "    return s3\n",
    "     \n",
    "\n",
    "middle_string('Ault','Kelly')"
   ]
  },
  {
   "cell_type": "code",
   "execution_count": 151,
   "metadata": {},
   "outputs": [
    {
     "name": "stdout",
     "output_type": "stream",
     "text": [
      "Mix String is: AJrpan\n"
     ]
    }
   ],
   "source": [
    "# Exercise 3: Create a new string made of the first, middle, and last characters of each input string\n",
    "\n",
    "# Given:\n",
    "# s1 = \"America\"\n",
    "# s2 = \"Japan\"\n",
    "# Expected Output:\n",
    "# AJrpan\n",
    "\n",
    "# Hint: \n",
    "# String index starts with index 0. The first character is present at index 0, and the last character is at the index string’s length -1\n",
    "# Use built-in function len(s1) to get the string length.\n",
    "# Next, get the middle index number by dividing string length by 2\n",
    "\n",
    "\n",
    "def firstmiddlelaststring(s1, s2):\n",
    "    # Get the first, middle, and last characters of each string\n",
    "    s2_length = s2 [: (int(len(s2)))]\n",
    "    first = s1[0] + s2[0]\n",
    "    middle = s1[int(len(s1)/2)]+ s2[int(len(s2)/2)]\n",
    "    last = s1[-1] + s2[-1]\n",
    "    combine_string = first + middle + last \n",
    "    return combine_string\n",
    "\n",
    "# Test the function\n",
    "s1 = \"America\"\n",
    "s2 = \"Japan\"\n",
    "resultat = firstmiddlelaststring(s1, s2)\n",
    "print(\"Mix String is:\", resultat)"
   ]
  },
  {
   "cell_type": "code",
   "execution_count": 164,
   "metadata": {},
   "outputs": [
    {
     "name": "stdout",
     "output_type": "stream",
     "text": [
      "['a', 'e', 'i', 'v', 'y', 'N', 'P', 'T']\n",
      "intvAEPY\n",
      "Original String: PYnAtivE\n",
      "Result: ntivPYAE\n"
     ]
    }
   ],
   "source": [
    "# Exercise 4: Arrange string characters such that lowercase letters should come first\n",
    "# Given string contains a combination of the lower and upper case letters. Write a program to arrange the characters of a string so that all lowercase letters should come first.\n",
    "\n",
    "# Given:\n",
    "# str1 = PyNaTive\n",
    "# Expected Output:\n",
    "# yaivePNT\n",
    "\n",
    "str1 = 'PyNaTive'\n",
    "sorted_list = sorted(str1, key=lambda x: (x.isupper(), x.lower()))\n",
    "print(sorted_list)\n",
    "\n",
    "def lowerfirst(str1):\n",
    "# # split into list \n",
    "# # order list by lowercase \n",
    "# # joins by to string\n",
    "    return ''.join(sorted(str1, key=lambda x: (x.isupper(), x.lower())))\n",
    "\n",
    "# The first criterion (x.isupper()) ensures that lowercase characters come before uppercase ones.\n",
    "# The second criterion (x.lower()) ensures the characters are sorted alphabetically, ignoring case.\n",
    "str1 = \"PYnAtivE\"\n",
    "print(lowerfirst(str1))  # Output: \"aeeinPty\"  # Output\n",
    "\n",
    "str1 = \"PYnAtivE\"\n",
    "lower=[]\n",
    "upper=[]\n",
    "for char in str1:\n",
    "    if char.islower():\n",
    "        lower.append(char)\n",
    "    else:\n",
    "        upper.append(char)\n",
    "\n",
    "sorted = ''.join(lower +upper)\n",
    "print(sorted) \n",
    "\n",
    "\n",
    "str1 = \"PYnAtivE\"\n",
    "print('Original String:', str1)\n",
    "lower = []\n",
    "upper = []\n",
    "for char in str1:\n",
    "    if char.islower():\n",
    "        # add lowercase characters to lower list\n",
    "        lower.append(char)\n",
    "    else:\n",
    "        # add uppercase characters to lower list\n",
    "        upper.append(char)\n",
    "\n",
    "# Join both list\n",
    "sorted_str = ''.join(lower + upper)\n",
    "print('Result:', sorted_str)"
   ]
  },
  {
   "cell_type": "code",
   "execution_count": 167,
   "metadata": {},
   "outputs": [
    {
     "name": "stdout",
     "output_type": "stream",
     "text": [
      "Chars = 8 Digits = 3 Symbol = 4\n"
     ]
    }
   ],
   "source": [
    "# Exercise 5: Count all letters, digits, and special symbols from a given string\n",
    "# Given:\n",
    "# str1 = \"P@#yn26at^&i5ve\"\n",
    "# Expected Outcome:\n",
    "# Total counts of chars, digits, and symbols \n",
    "# Chars = 8 \n",
    "# Digits = 3 \n",
    "# Symbol = 4\n",
    "\n",
    "def countthemall(str1):\n",
    "    alphabet=[]\n",
    "    digits=[]\n",
    "    symbols=[]\n",
    "\n",
    "\n",
    "    for char in str1:\n",
    "        if char.isalpha():\n",
    "            alphabet.append(char)\n",
    "        elif char.isdigit():\n",
    "            digits.append(char)\n",
    "        else:\n",
    "            symbols.append(char)\n",
    "    return print(\"Chars =\", len(alphabet), \"Digits =\", len(digits), \"Symbol =\", len(symbols))\n",
    "\n",
    "str1 = \"P@#yn26at^&i5ve\"\n",
    "countthemall(str1)\n"
   ]
  },
  {
   "cell_type": "code",
   "execution_count": 168,
   "metadata": {},
   "outputs": [
    {
     "name": "stdout",
     "output_type": "stream",
     "text": [
      "AzbycX\n"
     ]
    }
   ],
   "source": [
    "# Exercise 6: Create a mixed String using the following rules\n",
    "\n",
    "# Given two strings, s1 and s2. Write a program to create a new string s3 made of the first char of s1, then the last char of s2, Next, the second char of s1 and second last char of s2, and so on. Any leftover chars go at the end of the result.\n",
    "# Given:\n",
    "# s1 = \"Abc\"\n",
    "# s2 = \"Xyz\"\n",
    "# Expected Output:\n",
    "# AzbycX\n",
    "\n",
    "def string_mix(s1, s2):\n",
    "    s1_length = len(s1)\n",
    "    s2_length = len(s2)\n",
    "\n",
    "# get length of a bigger string\n",
    "    length = s1_length if s1_length > s2_length else s2_length\n",
    "    result = \"\"\n",
    "\n",
    "    # reverse s2\n",
    "    s2 = s2[::-1]\n",
    "    # iterate string \n",
    "    # s1 ascending and s2 descending\n",
    "    for i in range(length):\n",
    "        if i < s1_length:\n",
    "            result = result + s1[i]\n",
    "        if i < s2_length:\n",
    "            result = result + s2[i]\n",
    "    return result\n",
    "print(string_mix(\"Abc\", \"Xyz\")) # AzbycX\n"
   ]
  },
  {
   "cell_type": "code",
   "execution_count": 172,
   "metadata": {},
   "outputs": [
    {
     "name": "stdout",
     "output_type": "stream",
     "text": [
      "s1 and s2 are balanced: False\n"
     ]
    }
   ],
   "source": [
    "# Exercise 7: String characters balance Test\n",
    "# Write a program to check if two strings are balanced. For example, strings s1 and s2 are balanced if all the characters in the s1 are present in s2. \n",
    "# The character’s position doesn’t matter.\n",
    "\n",
    "\n",
    "s1 = \"Yn\"\n",
    "s2 = \"PYnative\"\n",
    "\n",
    "def ifexist(s1,s2):\n",
    "    for i in s1:\n",
    "        if i in s2:\n",
    "            continue  # If the character is found in s2, continue to the next character in s1\n",
    "        else:\n",
    "            flag ='False'\n",
    "    return  flag\n",
    "\n",
    "\n",
    "s1 = \"Ynf\"\n",
    "s2 = \"PYnative\"     \n",
    "flag = ifexist(s1,s2)\n",
    "print(\"s1 and s2 are balanced:\", flag)\n",
    "    \n"
   ]
  },
  {
   "cell_type": "code",
   "execution_count": 177,
   "metadata": {},
   "outputs": [
    {
     "name": "stdout",
     "output_type": "stream",
     "text": [
      "The USA count is: 2\n",
      "The USA count is: 2\n"
     ]
    }
   ],
   "source": [
    "# Exercise 8: Find all occurrences of a substring in a given string by ignoring the case\n",
    "# Write a program to find all occurrences of “USA” in a given string ignoring the case.\n",
    "# Given:\n",
    "# str1 = \"Welcome to USA. usa awesome, isn't it?\"\n",
    "# Expected Outcome:\n",
    "# The USA count is: 2\n",
    "\n",
    "def findsubstring(str1):\n",
    "    str2= str1.lower()\n",
    "    count = str2.count(\"usa\")\n",
    "    return count\n",
    "\n",
    "str1 = \"Welcome to USA. usa awesome, isn't it?\"\n",
    "\n",
    "print(\"The USA count is:\", findsubstring(str1))  # Output: The USA count is\n",
    "\n",
    "# =========================================================================\n",
    "str1 = \"Welcome to USA. usa awesome, isn't it?\"\n",
    "sub_string = \"USA\"\n",
    "# convert string to lowercase\n",
    "temp_str = str1.lower()\n",
    "# use count function\n",
    "count = temp_str.count(sub_string.lower())\n",
    "print(\"The USA count is:\", count)\n"
   ]
  },
  {
   "cell_type": "code",
   "execution_count": 180,
   "metadata": {},
   "outputs": [
    {
     "name": "stdout",
     "output_type": "stream",
     "text": [
      "Sum = 38 Count = 6 Average = 6.333333333333333\n"
     ]
    }
   ],
   "source": [
    "# Exercise 9: Calculate the sum and average of the digits present in a string\n",
    "\n",
    "# Given a string s1, write a program to return the sum and average of the digits that appear in the string, ignoring all other characters.\n",
    "# Given:\n",
    "# str1 = \"PYnative29@#8496\"\n",
    "# Expected Outcome:\n",
    "# Sum is: 38 Average is  6.333333333333333\n",
    "\n",
    "\n",
    "def sum_avg(str1):\n",
    "    # Initialize sum and count of digits\n",
    "    sum_digit = 0\n",
    "    count_digit = 0\n",
    "    # Iterate over each character in the string\n",
    "    for char in str1:\n",
    "        if char.isdigit():\n",
    "            # Add the digit to the sum and increment the count\n",
    "            sum_digit += int(char)\n",
    "            count_digit += 1\n",
    "            avg = float(sum_digit / count_digit)\n",
    "        else: \n",
    "            continue\n",
    "    return print(\"Sum =\", sum_digit , \"Count =\" , count_digit , 'Average =', avg)\n",
    "\n",
    "str1 = \"PYnative29@#8496\"\n",
    "sum_avg(str1)\n",
    "\n",
    "import re\n",
    "\n",
    "input_str = \"PYnative29@#8496\"\n",
    "digit_list = [int(num) for num in re.findall(r'\\d', input_str)]\n",
    "print('Digits:', digit_list)\n",
    "\n",
    "# use the built-in function sum\n",
    "total = sum(digit_list)\n",
    "\n",
    "# average = sum / count of digits\n",
    "avg = total / len(digit_list)\n",
    "print(\"Sum is:\", total, \"Average is \", avg)"
   ]
  },
  {
   "cell_type": "code",
   "execution_count": 181,
   "metadata": {},
   "outputs": [
    {
     "name": "stdout",
     "output_type": "stream",
     "text": [
      "Result {'A': 1, 'p': 2, 'l': 1, 'e': 1}\n"
     ]
    }
   ],
   "source": [
    "# Exercise 10: Write a program to count occurrences of all characters within a string\n",
    "# Given:\n",
    "# str1 = \"Apple\"\n",
    "# Expected Outcome:\n",
    "# {'A': 1, 'p': 2, 'l': 1, 'e': 1}\n",
    "\n",
    "def countthem(str1):\n",
    "    my_dic ={}\n",
    "    for char in str1:\n",
    "       count = str1.count(char) # count each characters\n",
    "       my_dic[char] = count # add dictionary charaters as keys and count as value\n",
    "    return print('Result',my_dic)\n",
    "\n",
    "str1 = \"Apple\"\n",
    "countthem(str1)"
   ]
  },
  {
   "cell_type": "code",
   "execution_count": 183,
   "metadata": {},
   "outputs": [
    {
     "name": "stdout",
     "output_type": "stream",
     "text": [
      "evitanYP\n",
      "evitanYP\n"
     ]
    }
   ],
   "source": [
    "# Exercise 11: Reverse a given string\n",
    "\n",
    "# Given:\n",
    "# str1 = \"PYnative\"\n",
    "# Expected Output:\n",
    "# evitanYP\n",
    "\n",
    "reverse = lambda string_to_reverse : string_to_reverse[::-1]\n",
    "print(reverse(\"PYnative\"))  # Output: \"evitanYP\"  # Output: \"\n",
    "reverse_method2 = lambda original_string :''.join(reversed(original_string))\n",
    "print(reverse_method2(\"PYnative\"))\n"
   ]
  },
  {
   "cell_type": "code",
   "execution_count": 185,
   "metadata": {},
   "outputs": [
    {
     "data": {
      "text/plain": [
       "'Last occurrence of Emma starts at index 43'"
      ]
     },
     "execution_count": 185,
     "metadata": {},
     "output_type": "execute_result"
    }
   ],
   "source": [
    "# Exercise 12: Find the last position of a given substring\n",
    "# Write a program to find the last position of a substring “Emma” in a given string.\n",
    "\n",
    "# Given:\n",
    "# str1 = \"Emma is a data scientist who knows Python. Emma works at google.\"\n",
    "# Expected Output:\n",
    "# Last occurrence of Emma starts at index 43\n",
    "str1 = \"Emma is a data scientist who knows Python. Emma works at google.\"\n",
    "\n",
    "def lastoccurence(str1):\n",
    "    str2 = \"Emma\"\n",
    "    last_index = str1.rfind(str2)\n",
    "    if last_index != -1:\n",
    "        return f\"Last occurrence of {str2} starts at index {last_index}\"\n",
    "\n",
    "str1 = \"Emma is a data scientist who knows Python. Emma works at google.\"\n",
    "lastoccurence(str1)\n",
    "\n",
    "# Find Last Occurrence:\n",
    "# last_index = str1.rfind(str2) uses the rfind method to find the index of the last occurrence of \"Emma\" in str1.\n",
    "\n",
    "# rfind returns the highest index where the substring is found, or -1 if it is not found.\n",
    "\n",
    "# Check for Existence:\n",
    "# if last_index != -1: checks whether the substring \"Emma\" was found in str1. If last_index is not -1, it means the substring exists in the string.\n"
   ]
  },
  {
   "cell_type": "code",
   "execution_count": 190,
   "metadata": {},
   "outputs": [
    {
     "name": "stdout",
     "output_type": "stream",
     "text": [
      "Emma-is-a-data-scientist\n",
      "['Emma', 'is', 'a', 'data', 'scientist']\n",
      "Emma\n",
      "is\n",
      "a\n",
      "data\n",
      "scientist\n"
     ]
    }
   ],
   "source": [
    "# Exercise 13: Split a string on hyphens\n",
    "# Write a program to split a given string on hyphens and display each substring.\n",
    "\n",
    "# Given:\n",
    "# str1 = Emma-is-a-data-scientist\n",
    "# Expected Output:\n",
    "# Displaying each substring\n",
    "# Emma\n",
    "# is\n",
    "# a\n",
    "# data\n",
    "# scientist\n",
    "\n",
    "str1 = \"Emma-is-a-data-scientist\"\n",
    "print(str1)\n",
    "str2 = str1.split(\"-\")\n",
    "print(str2)\n",
    "for char in str2:\n",
    "    print(char)"
   ]
  },
  {
   "cell_type": "code",
   "execution_count": 195,
   "metadata": {},
   "outputs": [
    {
     "name": "stdout",
     "output_type": "stream",
     "text": [
      "['Emma', 'Jon', 'Kelly', 'Eric']\n"
     ]
    }
   ],
   "source": [
    "# Exercise 14: Remove empty strings from a list of strings\n",
    "# Given:\n",
    "# str_list = [\"Emma\", \"Jon\", \"\", \"Kelly\", None, \"Eric\", \"\"]\n",
    "# Expected Output:\n",
    "# Original list of sting\n",
    "# ['Emma', 'Jon', '', 'Kelly', None, 'Eric', '']\n",
    "# After removing empty strings\n",
    "# ['Emma', 'Jon', 'Kelly', 'Eric']\n",
    "\n",
    "\n",
    "def removespacing(str_list):\n",
    "    str1= list(filter(None,str_list)) \n",
    "    #  --> None in filter(): When None is passed as the first argument to filter(), \n",
    "    # it behaves as if a function that returns the boolean value of each element was provided.\n",
    "    #  Specifically, filter(None, str_list) keeps only the elements in str_list that are True in a boolean context.\n",
    "    # In Python, an empty string '' is considered False, while non-empty strings are True\n",
    "    return  str1\n",
    "\n",
    "str_list = [\"Emma\", \"Jon\", \"\", \"Kelly\", None, \"Eric\", \"\"]\n",
    "\n",
    "print(removespacing(str_list))\n"
   ]
  },
  {
   "cell_type": "code",
   "execution_count": 196,
   "metadata": {},
   "outputs": [
    {
     "name": "stdout",
     "output_type": "stream",
     "text": [
      "Jon is developer  musician\n"
     ]
    }
   ],
   "source": [
    "# Exercise 15: Remove special symbols / punctuation from a string\n",
    "# Given:\n",
    "# str1 = \"/*Jon is @developer & musician\"\n",
    "# Expected Output:\n",
    "# \"Jon is developer musician\"\n",
    "\n",
    "import string\n",
    "str1 = \"/*Jon is @developer & musician\"\n",
    "str2 = str1.translate(str.maketrans(\"\",\"\",string.punctuation)) \n",
    "\n",
    "print(str2)\n",
    "# Hint:\n",
    "# Use string functions translate() and maketrans()\n",
    "\n",
    "# Use the translate() function to get a new string where specified characters are replaced with the character described in a dictionary or a mapping table.\n",
    "# Use the maketrans() function to create a mapping table.\n"
   ]
  },
  {
   "cell_type": "code",
   "execution_count": 200,
   "metadata": {},
   "outputs": [
    {
     "name": "stdout",
     "output_type": "stream",
     "text": [
      "2510\n",
      "2510\n"
     ]
    }
   ],
   "source": [
    "# Exercise 16: Removal all characters from a string except integers\n",
    "\n",
    "# Given:\n",
    "# str1 = 'I am 25 years and 10 months old'\n",
    "# Expected Output:\n",
    "# 2510\n",
    "str1 = 'I am 25 years and 10 months old'\n",
    "empty_list = []\n",
    "for char in str1:\n",
    "    if char.isdigit() == True:\n",
    "        empty_list.append(char)\n",
    "    else: \n",
    "        continue\n",
    "print(''.join(empty_list)) \n",
    "\n",
    "res = \"\".join([item for item in str1 if item.isdigit()]) # --> Expert level\n",
    "print(res) \n"
   ]
  },
  {
   "cell_type": "code",
   "execution_count": 205,
   "metadata": {},
   "outputs": [
    {
     "name": "stdout",
     "output_type": "stream",
     "text": [
      "Emma25 scientist50\n"
     ]
    }
   ],
   "source": [
    "# Exercise 17: Find words with both alphabets and numbers\n",
    "# Write a program to find words with both alphabets and numbers from an input string.\n",
    "# Given:\n",
    "# str1 = \"Emma25 is Data scientist50 and AI Expert\"\n",
    "# Expected Output:\n",
    "# Emma25\n",
    "# scientist50\n",
    "\n",
    "str1 = \"Emma25 is Data scientist50 and AI Expert\"\n",
    "\n",
    "str2 = \" \".join([x for x in str1.split() if any(c.isalpha() for c in x) and any(c.isdigit() for c in x)])\n",
    "print(str2)\n",
    "\n",
    "\n",
    "res = []\n",
    "# split string on whitespace\n",
    "temp = str1.split()\n",
    "\n",
    "# Words with both alphabets and numbers\n",
    "# isdigit() for numbers + isalpha() for alphabets\n",
    "# use any() to check each character\n",
    "\n",
    "for item in temp:\n",
    "    if any(char.isalpha() for char in item) and any(char.isdigit() for char in item):\n",
    "        res.append(item)\n",
    "\n",
    "print(\"Displaying words with alphabets and numbers\")\n",
    "for i in res:\n",
    "    print(i)"
   ]
  },
  {
   "cell_type": "code",
   "execution_count": 213,
   "metadata": {},
   "outputs": [
    {
     "name": "stdout",
     "output_type": "stream",
     "text": [
      "##Jon is #developer # musician##\n"
     ]
    }
   ],
   "source": [
    "# Exercise 18: Replace each special symbol with # in the following string\n",
    "# Given:\n",
    "\n",
    "# str1 = '/*Jon is @developer & musician!!'\n",
    "# Expected Output:\n",
    "\n",
    "# ##Jon is #developer # musician##\n",
    "\n",
    "# Iterate over each character in the punctuation set\n",
    "for char in string.punctuation:\n",
    "    # Replace each punctuation character in str1 with '#'\n",
    "    str1 = str1.replace(char, '#')\n",
    "\n",
    "# The final result is stored in str1 after all replacements\n",
    "print(str1)\n"
   ]
  },
  {
   "cell_type": "markdown",
   "metadata": {},
   "source": [
    "# **Class**"
   ]
  },
  {
   "cell_type": "code",
   "execution_count": 214,
   "metadata": {},
   "outputs": [
    {
     "name": "stdout",
     "output_type": "stream",
     "text": [
      "240 18\n"
     ]
    }
   ],
   "source": [
    "# OOP Exercise 1: Create a Class with instance attributes\n",
    "# Write a Python program to create a Vehicle class with max_speed and mileage instance attributes.\n",
    "# https://pynative.com/python-classes-and-objects/\n",
    "# https://pynative.com/python-instance-variables/\n",
    "class Vehicle:\n",
    "    def __init__(self, max_speed, mileage):\n",
    "        self.max_speed = max_speed\n",
    "        self.mileage = mileage\n",
    "\n",
    "modelX = Vehicle(240,18)\n",
    "print(modelX.max_speed, modelX.mileage)\n"
   ]
  },
  {
   "cell_type": "code",
   "execution_count": null,
   "metadata": {},
   "outputs": [],
   "source": [
    "# OOP Exercise 2: Create a Vehicle class without any variables and methods\n",
    "class Vehicle:\n",
    "    pass"
   ]
  },
  {
   "cell_type": "code",
   "execution_count": 215,
   "metadata": {},
   "outputs": [
    {
     "name": "stdout",
     "output_type": "stream",
     "text": [
      "Vehicle Name: School Volvo Speed: 180 Mileage: 12\n"
     ]
    }
   ],
   "source": [
    "# OOP Exercise 3: Create a child class Bus that will inherit all of the variables and methods of the Vehicle class\n",
    "class Vehicle:\n",
    "\n",
    "    def __init__(self, name, max_speed, mileage):\n",
    "        self.name = name\n",
    "        self.max_speed = max_speed\n",
    "        self.mileage = mileage\n",
    "\n",
    "class Bus(Vehicle): # The bus class just unherit from the class vehicle\n",
    "    pass\n",
    "\n",
    "School_bus = Bus(\"School Volvo\",180,12)\n",
    "print(\"Vehicle Name:\", School_bus.name, \"Speed:\", School_bus.max_speed, \"Mileage:\", School_bus.mileage)\n"
   ]
  },
  {
   "cell_type": "code",
   "execution_count": 220,
   "metadata": {},
   "outputs": [
    {
     "name": "stdout",
     "output_type": "stream",
     "text": [
      "The seating capacity of a School Volvo is 80 passengers\n"
     ]
    }
   ],
   "source": [
    "# OOP Exercise 4: Class Inheritance\n",
    "# Given:\n",
    "# Create a Bus class that inherits from the Vehicle class. Give the capacity argument of Bus.seating_capacity() a default value of 50.\n",
    "# Use the following code for your parent Vehicle class.\n",
    "class Vehicle:\n",
    "    def __init__(self, name, max_speed, mileage):\n",
    "        self.name = name\n",
    "        self.max_speed = max_speed\n",
    "        self.mileage = mileage\n",
    "\n",
    "    def seating_capacity(self, capacity):\n",
    "        return f\"The seating capacity of a {self.name} is {capacity} passengers\"\n",
    "\n",
    "class Bus(Vehicle):\n",
    "    def seating_capacity(self):\n",
    "    # Call the seating_capacity method of the parent class (Vehicle) with the default capacity value\n",
    "        return super().seating_capacity(capacity=80)\n",
    "    \n",
    "School_bus = Bus(\"School Volvo\",180,12)\n",
    "print(School_bus.seating_capacity())\n"
   ]
  },
  {
   "cell_type": "code",
   "execution_count": 224,
   "metadata": {},
   "outputs": [
    {
     "name": "stdout",
     "output_type": "stream",
     "text": [
      "Color: White Vehicle Name: School Volvo Speed: 180 Mileage: 12\n",
      "Color: White Vehicle Name: Audi Speed: 240 Mileage: 18\n"
     ]
    }
   ],
   "source": [
    "# OOP Exercise 5: Define a property that must have the same value for every class instance (object)\n",
    "# Define a class attribute”color” with a default value white. I.e., Every Vehicle should be white.\n",
    "# Use the following code for this exercise.\n",
    "class Vehicle:\n",
    "    color = \"White\"\n",
    "    def __init__(self, name, max_speed, mileage):\n",
    "        self.name = name\n",
    "        self.max_speed = max_speed\n",
    "        self.mileage = mileage\n",
    "        #self.color = \"White,\"\n",
    "\n",
    "class Bus(Vehicle):\n",
    "    pass\n",
    "\n",
    "class Car(Vehicle):\n",
    "    pass\n",
    "\n",
    "School_bus = Bus(\"School Volvo\",180,12)\n",
    "Car1 = Car(\"Audi\",240,18)\n",
    "print(\"Color:\",School_bus.color, \"Vehicle Name:\", School_bus.name, \"Speed:\", School_bus.max_speed, \"Mileage:\", School_bus.mileage)\n",
    "print(\"Color:\",Car1.color, \"Vehicle Name:\", Car1.name, \"Speed:\", Car1.max_speed, \"Mileage:\", Car1.mileage)\n",
    "\n"
   ]
  },
  {
   "cell_type": "code",
   "execution_count": 225,
   "metadata": {},
   "outputs": [
    {
     "name": "stdout",
     "output_type": "stream",
     "text": [
      "Total Bus fare is: 5500.0\n"
     ]
    }
   ],
   "source": [
    "# OOP Exercise 6: Class Inheritance\n",
    "# Given:\n",
    "# Create a Bus child class that inherits from the Vehicle class. The default fare charge of any vehicle is seating capacity * 100. If Vehicle is Bus instance, we need to add an extra 10% on full fare as a maintenance charge. So total fare for bus instance will become the final amount = total fare + 10% of the total fare.\n",
    "# Note: The bus seating capacity is 50. so the final fare amount should be 5500. You need to override the fare() method of a Vehicle class in Bus class.\n",
    "# Use the following code for your parent Vehicle class. We need to access the parent class from inside a method of a child class.\n",
    "\n",
    "class Vehicle:\n",
    "    def __init__(self, name, mileage, capacity):\n",
    "        self.name = name\n",
    "        self.mileage = mileage\n",
    "        self.capacity = capacity\n",
    "\n",
    "    def fare(self):\n",
    "        return self.capacity * 100\n",
    "\n",
    "class Bus(Vehicle):\n",
    "    def fare(self):\n",
    "        return super().fare() + (super().fare() * 0.1)\n",
    "    #  def fare(self):\n",
    "    #     amount = super().fare()\n",
    "    #     amount += amount * 10 / 100\n",
    "    #     return amount\n",
    "\n",
    "School_bus = Bus(\"School Volvo\", 12, 50)\n",
    "print(\"Total Bus fare is:\", School_bus.fare())"
   ]
  },
  {
   "cell_type": "code",
   "execution_count": 227,
   "metadata": {},
   "outputs": [
    {
     "name": "stdout",
     "output_type": "stream",
     "text": [
      "<class '__main__.Bus'>\n"
     ]
    }
   ],
   "source": [
    "# OOP Exercise 7: Check type of an object\n",
    "# Write a program to determine which class a given Bus object belongs to.\n",
    "# Given:\n",
    "\n",
    "class Vehicle:\n",
    "    def __init__(self, name, mileage, capacity):\n",
    "        self.name = name\n",
    "        self.mileage = mileage\n",
    "        self.capacity = capacity\n",
    "\n",
    "class Bus(Vehicle):\n",
    "    pass\n",
    "\n",
    "School_bus = Bus(\"School Volvo\", 12, 50)\n",
    "print(type(School_bus))\n"
   ]
  },
  {
   "cell_type": "code",
   "execution_count": 228,
   "metadata": {},
   "outputs": [
    {
     "name": "stdout",
     "output_type": "stream",
     "text": [
      "True\n"
     ]
    }
   ],
   "source": [
    "# OOP Exercise 8: Determine if School_bus is also an instance of the Vehicle class\n",
    "# Given:\n",
    "# https://pynative.com/python-isinstance-explained-with-examples/\n",
    "# https://pynative.com/python-instance-variables/\n",
    "# https://pynative.com/python-class-variables/\n",
    "\n",
    "class Vehicle:\n",
    "    def __init__(self, name, mileage, capacity):\n",
    "        self.name = name\n",
    "        self.mileage = mileage\n",
    "        self.capacity = capacity\n",
    "\n",
    "class Bus(Vehicle):\n",
    "    pass\n",
    "\n",
    "School_bus = Bus(\"School Volvo\", 12, 50)\n",
    "print(isinstance(School_bus, Bus))\n",
    "\n",
    "\n",
    "# The Python’s isinstance() function checks whether the object or variable is an instance of the specified class type or data type.\n",
    "# For example, isinstance(name, str) checks if name is an instance of a class str.\n",
    "# Syntax: \n",
    "# isinstance(object, classinfo)\n",
    "# It takes two arguments, and both are mandatory.\n",
    "# The isinstance() function checks if the object argument is an instance or subclass of classinfo class argument"
   ]
  },
  {
   "cell_type": "code",
   "execution_count": null,
   "metadata": {},
   "outputs": [],
   "source": [
    "# In simple terms, isinstance is a built-in function in Python that checks if an object belongs to a specific class or a group of classes.\n",
    "\n",
    "# Example:\n",
    "# Check if the number 5 is an instance of the int class\n",
    "print(isinstance(5, int))  # Output: True\n",
    "\n",
    "# Check if the string \"Hello\" is an instance of the int class\n",
    "print(isinstance(\"Hello\", int))  # Output: False\n",
    "# Summary:\n",
    "# isinstance(object, class) returns True if the object is an instance of the class (or classes), and False otherwise.\n",
    "# It’s a way to confirm the type of an object in Python."
   ]
  }
 ],
 "metadata": {
  "kernelspec": {
   "display_name": "Python 3",
   "language": "python",
   "name": "python3"
  },
  "language_info": {
   "codemirror_mode": {
    "name": "ipython",
    "version": 3
   },
   "file_extension": ".py",
   "mimetype": "text/x-python",
   "name": "python",
   "nbconvert_exporter": "python",
   "pygments_lexer": "ipython3",
   "version": "3.12.0"
  }
 },
 "nbformat": 4,
 "nbformat_minor": 2
}
